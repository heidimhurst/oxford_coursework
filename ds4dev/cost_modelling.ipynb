{
 "cells": [
  {
   "cell_type": "code",
   "execution_count": 1,
   "metadata": {
    "collapsed": false
   },
   "outputs": [],
   "source": [
    "import networkx as nx\n",
    "from shapely.ops import nearest_points\n",
    "from shapely.geometry import MultiPoint, Point, Polygon"
   ]
  },
  {
   "cell_type": "code",
   "execution_count": 112,
   "metadata": {
    "collapsed": true
   },
   "outputs": [],
   "source": [
    "# imports etc\n",
    "import pandas as pd\n",
    "import geopandas as gpd\n",
    "import matplotlib.pyplot as plt\n",
    "\n",
    "from scipy.optimize import minimize\n",
    "\n",
    "import geoplot as gplt\n",
    "# see https://anaconda.org/conda-forge/geoplot for installation troubleshooting\n",
    "\n",
    "import numpy as np\n",
    "\n",
    "from shapely.geometry import Point\n",
    "\n",
    "%matplotlib inline"
   ]
  },
  {
   "cell_type": "code",
   "execution_count": 3,
   "metadata": {
    "collapsed": true
   },
   "outputs": [],
   "source": [
    "data_path = \"../provided_data/\"\n",
    "spatial_path = \"../spatial_data/\""
   ]
  },
  {
   "cell_type": "code",
   "execution_count": 4,
   "metadata": {
    "collapsed": true
   },
   "outputs": [],
   "source": [
    "# estimated speed in minutes per meter\n",
    "transit_speed = {\"Metro\": 1, \"Cable\": 1, \"Tramway\":1, \"Bus rapid transit\": 1} \n",
    "transit_wait = {\"Metro\": 1, \"Cable\": 5, \"Tramway\":5, \"Bus rapid transit\": 10} #minutes"
   ]
  },
  {
   "cell_type": "code",
   "execution_count": 5,
   "metadata": {
    "collapsed": true
   },
   "outputs": [],
   "source": [
    "def spatial_csv(name,):\n",
    "    \"\"\"\n",
    "    Quick function to read in CSV containing columns \"longitude\" and \n",
    "    \"latitude\" and convert to geopandas dataframe.\n",
    "    \"\"\"\n",
    "    stations = pd.read_csv(data_path+name, encoding=\"ISO-8859-1\")\n",
    "    if all(x in stations.columns for x in [\"longitude\", \"latitude\"]):\n",
    "        stations['geometry'] = stations.apply(lambda z: Point(z.longitude, z.latitude), axis=1)\n",
    "    stations = gpd.GeoDataFrame(stations)\n",
    "    return stations"
   ]
  },
  {
   "cell_type": "markdown",
   "metadata": {},
   "source": [
    "## 1: Distance from Muni to Closest Station"
   ]
  },
  {
   "cell_type": "code",
   "execution_count": 6,
   "metadata": {
    "collapsed": true
   },
   "outputs": [],
   "source": [
    "def projected(df, crs=32218):\n",
    "    \"\"\"\n",
    "    Projects a dataframe df into epsg:32218 (UTM18N). \n",
    "    If no intial CRS specified, assume WGS 84\n",
    "    \"\"\"\n",
    "    if df.crs is None:\n",
    "        # if no coordinate reference selected, assume WGS84\n",
    "        df.crs = {'init' :'epsg:4326'}\n",
    "    df = df.to_crs(epsg=crs)\n",
    "    \n",
    "    return df"
   ]
  },
  {
   "cell_type": "code",
   "execution_count": 7,
   "metadata": {
    "collapsed": true
   },
   "outputs": [],
   "source": [
    "def projected_centroid(df, crs=32218):\n",
    "    \"\"\"\n",
    "    Takes a dataframe with a polygon \"geometry\" field, finds the centroid of each \n",
    "    polygon, and then converts that into a projected coordinate for given CRS\n",
    "    \"\"\"\n",
    "    \n",
    "    new_geom = [df.loc[x,\"geometry\"].centroid for x in range(len(df))]\n",
    "    df[\"geometry\"] = new_geom\n",
    "\n",
    "    return projected(df,crs)"
   ]
  },
  {
   "cell_type": "code",
   "execution_count": 8,
   "metadata": {
    "collapsed": false
   },
   "outputs": [],
   "source": [
    "def sort_df_by_list(df, lst, column_name=\"admin2RefN\"):\n",
    "    \"\"\"\n",
    "    Sorts a data frame to be in the same order as lst by column name\n",
    "    Returns sorted data frame\n",
    "    \"\"\"\n",
    "    \n",
    "    df[\"sort_ind\"] = [lst.index(df.loc[i,column_name]) for i in range(len(df))]\n",
    "    \n",
    "    return df.sort_values(\"sort_ind\")"
   ]
  },
  {
   "cell_type": "code",
   "execution_count": 45,
   "metadata": {
    "collapsed": true
   },
   "outputs": [],
   "source": [
    "def muni_center(ind, comunas, **kwargs):\n",
    "    \"\"\"\n",
    "    Finds the \"center\" of a municipality of index \"ind\" as \n",
    "    the centroid of all its composite comunas\n",
    "    \"\"\"\n",
    "    \n",
    "    return MultiPoint(comunas[comunas[\"muni_index\"]==ind].geometry.tolist()).centroid"
   ]
  },
  {
   "cell_type": "code",
   "execution_count": 96,
   "metadata": {
    "collapsed": false
   },
   "outputs": [],
   "source": [
    "def metro_dist(from_pt, to_pts, **kwargs):\n",
    "    \"\"\"\n",
    "    Finds distance from from_pt to nearest metro station or to_pts.\n",
    "    \n",
    "    from_pt : row of e.g. municipality with PROJECTED .geometry field\n",
    "    to_pts (eg metro) : data frame of target points with PROJECTED .geometry field\n",
    "    \n",
    "    returns: distance (METERS, if both dataframes projected projected)\n",
    "    and INDEX (second) of to_pt\n",
    "    \"\"\"\n",
    "    \n",
    "    # throw error if incorrect type, for whatever reason\n",
    "    assert(type(from_pt.geometry) in [Point, Polygon]), \"from_pt must contain point or polygon geometry\"\n",
    "\n",
    "    to_pts_geom = to_pts.geometry.tolist()\n",
    "    # find nearest point to a given point\n",
    "    if \"comunas\" in kwargs.keys(): # weighted center of comunas\n",
    "        center = muni_center(from_pt[\"sort_ind\"] + 1, kwargs[\"comunas\"])\n",
    "        print(center)\n",
    "        print(from_pt[\"sort_ind\"])\n",
    "        r = nearest_points(center, MultiPoint(to_pts_geom))\n",
    "    elif type(from_pt.geometry) == Polygon:\n",
    "        r = nearest_points(from_pt.geometry.centroid, MultiPoint(to_pts_geom))\n",
    "    elif type(from_pt.geometry) == Point:\n",
    "        r = nearest_points(from_pt.geometry, MultiPoint(to_pts_geom))\n",
    "\n",
    "    return r[0].distance(r[1]), to_pts_geom.index(r[1])"
   ]
  },
  {
   "cell_type": "code",
   "execution_count": 97,
   "metadata": {
    "collapsed": false
   },
   "outputs": [],
   "source": [
    "metro = projected(spatial_csv(\"medellin_metro.csv\"))\n",
    "metro = metro.rename(columns={\"Unnamed: 8\":\"Transfer_2\"})\n",
    "\n",
    "muni_pop = projected(spatial_csv(\"muni_pop_ed.csv\"))\n",
    "muni_names = list(muni_pop[\"Unnamed: 0\"].values)\n",
    "\n",
    "# read in and sort municipality correctly\n",
    "municip = projected(gpd.read_file(spatial_path+\"municipalities\"))\n",
    "municip = sort_df_by_list(municip, muni_names)"
   ]
  },
  {
   "cell_type": "markdown",
   "metadata": {},
   "source": [
    "## 2. Distance Through Network"
   ]
  },
  {
   "cell_type": "markdown",
   "metadata": {},
   "source": [
    "### 2a. Network Creation"
   ]
  },
  {
   "cell_type": "code",
   "execution_count": 98,
   "metadata": {
    "collapsed": true
   },
   "outputs": [],
   "source": [
    "def metro_time(i, j, metro, speed=transit_speed):\n",
    "    \"\"\"\n",
    "    Computes the time needed to travel between metro stop i and stop j\n",
    "    i,j indices based on transit_speed specified by transit type\n",
    "    \"\"\"\n",
    "    # change speed based on type of transit\n",
    "    dist =  metro.loc[i,'geometry'].distance(metro.loc[j,'geometry'])\n",
    "    \n",
    "    return dist * speed[metro.loc[i,\"Type\"]]"
   ]
  },
  {
   "cell_type": "code",
   "execution_count": 99,
   "metadata": {
    "collapsed": true
   },
   "outputs": [],
   "source": [
    "def non_unique(lst):\n",
    "    \"\"\"\n",
    "    Returns non-unique items in a list\n",
    "    \"\"\"\n",
    "    \n",
    "    uniq = list(set(lst))\n",
    "    # remove them all, leaving only transfer stops\n",
    "    for i in range(len(uniq)):\n",
    "        lst.remove(uniq[i])\n",
    "        \n",
    "    return lst"
   ]
  },
  {
   "cell_type": "code",
   "execution_count": 100,
   "metadata": {
    "collapsed": true
   },
   "outputs": [],
   "source": [
    "def create_transfer_nodes(G, metro, add=True, **kwargs):\n",
    "    \"\"\"\n",
    "    For a metro system \"metro\" (dataframe), creates dummy nodes for transfer stations\n",
    "    and adds them to graph of metro system G.\n",
    "    \n",
    "    Returns list of transfer node names\n",
    "    \"\"\"\n",
    "    # get list of transfer stops\n",
    "    t_names = non_unique(list(metro[\"Stop\"].values))\n",
    "    # create node dictionary\n",
    "    t_nodes = dict.fromkeys(list(range(len(metro),len(metro)+len(t_names))))\n",
    "    # populate node dict with content\n",
    "    for i in range(len(t_names)):\n",
    "        t_nodes[i+len(metro)] = t_names[i]\n",
    "        \n",
    "    if add:\n",
    "        G.add_nodes_from(t_nodes)\n",
    "        return G\n",
    "    else:\n",
    "        return t_nodes"
   ]
  },
  {
   "cell_type": "code",
   "execution_count": 101,
   "metadata": {
    "collapsed": false
   },
   "outputs": [],
   "source": [
    "def create_transfer_edges(G, metro, wait=transit_wait, add=True, **kwargs):\n",
    "    \"\"\"\n",
    "    Creates tuples of (station, transfer, wait_time) and adds them to graph\n",
    "    G of the metro station as edges.\n",
    "    \"\"\"\n",
    "    edges = []\n",
    "    # get list of transfer stops\n",
    "    transfer_names = non_unique(list(metro[\"Stop\"].values))\n",
    "    # loop through dummy transfer stations\n",
    "    for i in range(len(transfer_names)):\n",
    "        to_indices = [k for k in range(len(metro)) if (metro.loc[k,\"Stop\"] == transfer_names[i]) ]\n",
    "        # loop through things to that tation\n",
    "        for j in to_indices:\n",
    "            edges.append((j,i+len(metro),wait[metro.loc[j,\"Type\"]]))\n",
    "            \n",
    "    if add:\n",
    "        G.add_weighted_edges_from(edges)\n",
    "        return G\n",
    "        \n",
    "    return(edges)"
   ]
  },
  {
   "cell_type": "code",
   "execution_count": 102,
   "metadata": {
    "collapsed": true
   },
   "outputs": [],
   "source": [
    "def create_metro_edges(G, metro, add=True, **kwargs):\n",
    "    # create list of edges for al lines\n",
    "    edges = [(i,i+1,metro_time(i,i+1, metro))\n",
    "         for i in range(len(metro)-1) if metro.loc[i,\"Line\"] == metro.loc[i+1,\"Line\"]]\n",
    "    \n",
    "    if add:\n",
    "        # add edges to graph\n",
    "        G.add_weighted_edges_from(edges)\n",
    "        return G\n",
    "        \n",
    "    return edges"
   ]
  },
  {
   "cell_type": "code",
   "execution_count": 103,
   "metadata": {
    "collapsed": true
   },
   "outputs": [],
   "source": [
    "def metro_to_graph(metro,**kwargs):\n",
    "    \"\"\"\n",
    "    Creates a connected graph from metro dataframe, where metro contains (at least) columns\n",
    "    \"Line\", \"Stop\", \"Type\"\n",
    "    \"\"\"\n",
    "    # create empty graph\n",
    "    G = nx.Graph()\n",
    "    \n",
    "    # add metro nodes\n",
    "    mdict = metro.to_dict(orient=\"index\")\n",
    "    G.add_nodes_from(list(mdict.keys()))\n",
    "    nx.set_node_attributes(G, mdict)\n",
    "    # add metro edges\n",
    "    G = create_metro_edges(G, metro,**kwargs)\n",
    "    # add transit dummy stations\n",
    "    G = create_transfer_nodes(G, metro, **kwargs)\n",
    "    # add transit edges\n",
    "    G = create_transfer_edges(G, metro, **kwargs)\n",
    "    return G"
   ]
  },
  {
   "cell_type": "code",
   "execution_count": 104,
   "metadata": {
    "collapsed": false
   },
   "outputs": [],
   "source": [
    "K = metro_to_graph(metro)"
   ]
  },
  {
   "cell_type": "code",
   "execution_count": 105,
   "metadata": {
    "collapsed": false
   },
   "outputs": [
    {
     "data": {
      "image/png": "[encoded data removed]",
      "text/plain": [
       "<Figure size 432x288 with 1 Axes>"
      ]
     },
     "metadata": {},
     "output_type": "display_data"
    }
   ],
   "source": [
    "nx.draw(K)"
   ]
  },
  {
   "cell_type": "markdown",
   "metadata": {},
   "source": [
    "## 3. Add Centroids To Graph"
   ]
  },
  {
   "cell_type": "code",
   "execution_count": 106,
   "metadata": {
    "collapsed": false
   },
   "outputs": [],
   "source": [
    "def add_centroids(G, metro, municip, namecol=\"admin2RefN\", add=True, walk_speed = 10, **kwargs):\n",
    "    \"\"\"\n",
    "    Adds centroids of municipality to graph as well as edges \n",
    "    between centroids and closest metro stops\n",
    "    \n",
    "    walk_speed: meters per minute\n",
    "    \"\"\"\n",
    "    \n",
    "    # distance from each centroid to a metro station\n",
    "    mout = [metro_dist(municip.iloc[x], metro, **kwargs) for x in range(10)]\n",
    "    \n",
    "    # create new nodes,edges for each municipality\n",
    "    offset = 1000\n",
    "    # muni index list\n",
    "    muni_index = list(range(offset, offset+len(municip)))\n",
    "    muni_nodes = dict.fromkeys(muni_index)\n",
    "    edges = []\n",
    "    \n",
    "    # assign name attribute, index attribute, create edges\n",
    "    for i in range(len(municip)):\n",
    "        muni_nodes[offset + i] = {\"muni_index\":i, \"muni_name\" : municip.loc[i,namecol]}\n",
    "        edges.append((offset+i, mout[i][1], mout[i][0]*walk_speed))    \n",
    "        \n",
    "    # add to graph\n",
    "    if add:\n",
    "        # add nodes\n",
    "        G.add_nodes_from(list(muni_nodes.keys()))\n",
    "        nx.set_node_attributes(G, muni_nodes)\n",
    "        # add edges\n",
    "        G.add_weighted_edges_from(edges)\n",
    "        return G, muni_index\n",
    "    \n",
    "    return muni_nodes, edges"
   ]
  },
  {
   "cell_type": "markdown",
   "metadata": {},
   "source": [
    "## 4. Compute Cost Matrix"
   ]
  },
  {
   "cell_type": "code",
   "execution_count": 107,
   "metadata": {
    "collapsed": true
   },
   "outputs": [],
   "source": [
    "def cost_between_indices(G, lst, method=\"dijkstra\"):\n",
    "    \"\"\"\n",
    "    Creates a matrix of size len(lst)^2 where entry\n",
    "    c_ij contains the cost of traveling from node i to\n",
    "    node j through graph G\n",
    "    \"\"\"\n",
    "    \n",
    "    n = len(lst)\n",
    "    cost = np.zeros((n,n))\n",
    "    for i in range(n):\n",
    "        for j in range(n):\n",
    "            cost[i,j] = nx.dijkstra_path_length(G,lst[i],lst[j])\n",
    "    \n",
    "    return cost"
   ]
  },
  {
   "cell_type": "code",
   "execution_count": 108,
   "metadata": {
    "collapsed": true
   },
   "outputs": [],
   "source": [
    "def cost_from_metro(metro, municip, **kwargs):\n",
    "    \"\"\"\n",
    "    Creates a cost matrix for traveling between the centroids \n",
    "    of all municipalities\n",
    "    \"\"\"\n",
    "    \n",
    "    # create graph\n",
    "    G = metro_to_graph(metro, **kwargs)\n",
    "    # add centroids\n",
    "    G, muni_index = add_centroids(G, metro, municip, **kwargs)\n",
    "    \n",
    "    return cost_between_indices(G, muni_index)"
   ]
  },
  {
   "cell_type": "code",
   "execution_count": 109,
   "metadata": {
    "collapsed": false
   },
   "outputs": [
    {
     "name": "stdout",
     "output_type": "stream",
     "text": [
      "POINT (434675.7919213748 692192.2225191436)\n",
      "0\n",
      "POINT (463004.7889141612 712183.1486992474)\n",
      "1\n",
      "POINT (438013.1865059877 700387.4382481903)\n",
      "2\n",
      "POINT (429894.6201873018 670780.9708415892)\n",
      "3\n",
      "POINT (443834.6943574236 702180.6327056983)\n",
      "4\n",
      "POINT (436378.2153932683 681400.2190503889)\n",
      "5\n",
      "POINT (450319.9976041996 705644.1464286316)\n",
      "6\n",
      "POINT (431701.0401266101 683046.1169005791)\n",
      "7\n",
      "POINT (427913.515973477 679331.5768946405)\n",
      "8\n",
      "POINT (431904.0842491058 679392.1499651098)\n",
      "9\n"
     ]
    }
   ],
   "source": [
    "cost = cost_from_metro(metro, municip, speed=transit_speed, wait=transit_wait, comunas=comunas) # additional keywords: wait=transit_wait, speed=transit_speed"
   ]
  },
  {
   "cell_type": "code",
   "execution_count": 110,
   "metadata": {
    "collapsed": false
   },
   "outputs": [
    {
     "data": {
      "image/png": "[encoded data removed]",
      "text/plain": [
       "<Figure size 1008x216 with 2 Axes>"
      ]
     },
     "metadata": {
      "needs_background": "light"
     },
     "output_type": "display_data"
    }
   ],
   "source": [
    "# visualize travel cost\n",
    "fig, axes = plt.subplots(nrows=1, ncols=1, figsize=(14,3))\n",
    "\n",
    "cbarimg = axes.imshow(cost, extent=[0.5,10.5,10.5,0.5])\n",
    "axes.set_title(\"Original Cost Matrix\")\n",
    "axes.set_xticks(list(range(1,11)))\n",
    "axes.set_yticks(list(range(1,11)))\n",
    "axes.set_xlabel(\"Destination Municipio\")\n",
    "axes.set_ylabel(\"Origin Municipio\")\n",
    "\n",
    "cbar = plt.colorbar(cbarimg)\n",
    "cbar.ax.get_yaxis().labelpad = 15\n",
    "cbar.ax.set_ylabel('Travel Time (Minutes)', rotation=270)\n",
    "\n",
    "plt.show()"
   ]
  },
  {
   "cell_type": "markdown",
   "metadata": {},
   "source": [
    "## Instead of Centroids - Centroid of Comunas"
   ]
  },
  {
   "cell_type": "code",
   "execution_count": 111,
   "metadata": {
    "collapsed": false
   },
   "outputs": [
    {
     "data": {
      "text/plain": [
       "['Medellin',\n",
       " 'Barbosa',\n",
       " 'Bello',\n",
       " 'Caldas',\n",
       " 'Copacabana',\n",
       " 'Envigado',\n",
       " 'Girardota',\n",
       " 'Itagui',\n",
       " 'La Estrella',\n",
       " 'Sabaneta']"
      ]
     },
     "execution_count": 111,
     "metadata": {},
     "output_type": "execute_result"
    }
   ],
   "source": [
    "muni_names"
   ]
  },
  {
   "cell_type": "code",
   "execution_count": 32,
   "metadata": {
    "collapsed": true
   },
   "outputs": [],
   "source": [
    "comunas = projected(spatial_csv(\"comunas_new.csv\"))"
   ]
  },
  {
   "cell_type": "code",
   "execution_count": 76,
   "metadata": {
    "collapsed": false
   },
   "outputs": [
    {
     "data": {
      "image/svg+xml": [
       "<svg xmlns=\"http://www.w3.org/2000/svg\" xmlns:xlink=\"http://www.w3.org/1999/xlink\" width=\"100.0\" height=\"100.0\" viewBox=\"431700.04012661014 683045.1169005791 2.0 2.0\" preserveAspectRatio=\"xMinYMin meet\"><g transform=\"matrix(1,0,0,-1,0,1366092.2338011581)\"><circle cx=\"431701.04012661014\" cy=\"683046.1169005791\" r=\"0.06\" stroke=\"#555555\" stroke-width=\"0.02\" fill=\"#66cc99\" opacity=\"0.6\" /></g></svg>"
      ],
      "text/plain": [
       "<shapely.geometry.point.Point at 0x101c7d87f0>"
      ]
     },
     "execution_count": 76,
     "metadata": {},
     "output_type": "execute_result"
    }
   ],
   "source": [
    "MultiPoint(comunas[comunas[\"muni_index\"]==8].geometry.tolist()).centroid"
   ]
  },
  {
   "cell_type": "code",
   "execution_count": 43,
   "metadata": {
    "collapsed": true
   },
   "outputs": [],
   "source": [
    "def test_kwargs(**kwargs):\n",
    "    print(\"banana\" in kwargs.keys())"
   ]
  },
  {
   "cell_type": "code",
   "execution_count": 72,
   "metadata": {
    "collapsed": false
   },
   "outputs": [
    {
     "data": {
      "text/plain": [
       "shapely.geometry.point.Point"
      ]
     },
     "execution_count": 72,
     "metadata": {},
     "output_type": "execute_result"
    }
   ],
   "source": [
    "type(municip.iloc[5].geometry.centroid)"
   ]
  },
  {
   "cell_type": "code",
   "execution_count": null,
   "metadata": {
    "collapsed": true
   },
   "outputs": [],
   "source": []
  },
  {
   "cell_type": "code",
   "execution_count": 79,
   "metadata": {
    "collapsed": false
   },
   "outputs": [
    {
     "data": {
      "text/plain": [
       "(<shapely.geometry.point.Point at 0x101c62b630>,\n",
       " <shapely.geometry.point.Point at 0x101c62be48>)"
      ]
     },
     "execution_count": 79,
     "metadata": {},
     "output_type": "execute_result"
    }
   ],
   "source": [
    "center = muni_center(5, comunas) #municip.iloc[5].geometry.centroid\n",
    "\n",
    "nearest_points(center, MultiPoint(comunas[comunas[\"muni_index\"]==8].geometry.tolist()))"
   ]
  },
  {
   "cell_type": "code",
   "execution_count": 77,
   "metadata": {
    "collapsed": false
   },
   "outputs": [
    {
     "data": {
      "image/svg+xml": [
       "<svg xmlns=\"http://www.w3.org/2000/svg\" xmlns:xlink=\"http://www.w3.org/1999/xlink\" width=\"100.0\" height=\"100.0\" viewBox=\"443833.6943574236 702179.6327056983 2.0 2.0\" preserveAspectRatio=\"xMinYMin meet\"><g transform=\"matrix(1,0,0,-1,0,1404361.2654113965)\"><circle cx=\"443834.6943574236\" cy=\"702180.6327056983\" r=\"0.06\" stroke=\"#555555\" stroke-width=\"0.02\" fill=\"#66cc99\" opacity=\"0.6\" /></g></svg>"
      ],
      "text/plain": [
       "<shapely.geometry.point.Point at 0x101c7d82e8>"
      ]
     },
     "execution_count": 77,
     "metadata": {},
     "output_type": "execute_result"
    }
   ],
   "source": [
    "muni_center(5, comunas)"
   ]
  },
  {
   "cell_type": "code",
   "execution_count": null,
   "metadata": {
    "collapsed": true
   },
   "outputs": [],
   "source": [
    "if \"comunas\" in kwargs.keys():\n",
    "    for i in range(len(municip)):\n",
    "        municip.loc[i, \"geometry\"] = MultiPoint(comunas[comunas[\"muni_index\"]==i].geometry.tolist()).centroid"
   ]
  }
 ],
 "metadata": {
  "anaconda-cloud": {},
  "kernelspec": {
   "display_name": "Python (ds4dev)",
   "language": "python",
   "name": "ds4dev"
  },
  "language_info": {
   "codemirror_mode": {
    "name": "ipython",
    "version": 3
   },
   "file_extension": ".py",
   "mimetype": "text/x-python",
   "name": "python",
   "nbconvert_exporter": "python",
   "pygments_lexer": "ipython3",
   "version": "3.7.3"
  }
 },
 "nbformat": 4,
 "nbformat_minor": 2
}
