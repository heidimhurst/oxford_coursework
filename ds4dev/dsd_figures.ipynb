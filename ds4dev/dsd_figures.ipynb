{
 "cells": [
  {
   "cell_type": "code",
   "execution_count": 1,
   "metadata": {
    "collapsed": false
   },
   "outputs": [],
   "source": [
    "import geopandas as gpd\n",
    "\n",
    "from cost_model import cost_from_metro, sort_df_by_list, projected\n",
    "from dsd_processing import spatial_csv\n",
    "\n",
    "import matplotlib.pyplot as plt\n",
    "import numpy as np\n",
    "\n",
    "%matplotlib inline"
   ]
  },
  {
   "cell_type": "code",
   "execution_count": 2,
   "metadata": {
    "collapsed": true
   },
   "outputs": [],
   "source": [
    "def plot_adj(axes, title=\"\"):\n",
    "    \"\"\"\n",
    "    Helper function to set axis, title, labels consistenly etc.\n",
    "    \"\"\"\n",
    "    axes.set_title(title)\n",
    "    axes.set_xticks(list(range(1,11)))\n",
    "    axes.set_yticks(list(range(1,11)))\n",
    "    axes.set_xlabel(\"Destination Municipio\")\n",
    "    axes.set_ylabel(\"Origin Municipio\")"
   ]
  },
  {
   "cell_type": "code",
   "execution_count": 3,
   "metadata": {
    "collapsed": false
   },
   "outputs": [],
   "source": [
    "def plot_multicost(cost, titles=[], cmap=\"RdYlBu_r\", extent=[0.5,10.5,10.5,0.5], figsize=(14,3)):\n",
    "    \"\"\"\n",
    "    TODO: FIX\n",
    "    \"\"\"\n",
    "    \n",
    "    fig, axes = plt.subplots(nrows=1, ncols=len(cost), figsize=figsize)\n",
    "    \n",
    "    assert len(cost)==len(titles), \"need same number titles as cost matrices\"\n",
    "    if len(cost) == 1:\n",
    "        cbarimg = axes.imshow(cost[0], cmap, extent)\n",
    "        plot_cost(axes, titles[0])\n",
    "    else:\n",
    "        for i in range(len(cost)):\n",
    "            cbarimg = axes[i].imshow(cost[i], cmap, extent)\n",
    "            plot_cost(axes, titles[i])\n",
    "        \n",
    "        \n",
    "    cbar = plt.colorbar(cbarimg)\n",
    "    cbar.ax.get_yaxis().labelpad = 15\n",
    "    cbar.ax.set_ylabel('Travel Time (Minutes)', rotation=270)\n",
    "\n",
    "    plt.show()"
   ]
  },
  {
   "cell_type": "markdown",
   "metadata": {},
   "source": [
    "## Imports"
   ]
  },
  {
   "cell_type": "code",
   "execution_count": 4,
   "metadata": {
    "collapsed": true
   },
   "outputs": [],
   "source": [
    "data_path = \"../provided_data/\"\n",
    "spatial_path = \"../spatial_data/\""
   ]
  },
  {
   "cell_type": "code",
   "execution_count": 5,
   "metadata": {
    "collapsed": false
   },
   "outputs": [],
   "source": [
    "metro = spatial_csv(\"medellin_metro.csv\", path=data_path)\n",
    "metro = metro.rename(columns={\"Unnamed: 8\":\"Transfer_2\"})\n",
    "\n",
    "muni_pop = spatial_csv(\"muni_pop_ed.csv\", path=data_path)\n",
    "muni_names = list(muni_pop[\"Unnamed: 0\"].values)\n",
    "\n",
    "comunas = spatial_csv(\"comunas_new.csv\", path=data_path)\n",
    "\n",
    "# read in and sort municipality correctly\n",
    "municip = projected(gpd.read_file(spatial_path+\"municipalities\"))\n",
    "municip = sort_df_by_list(municip, muni_names)"
   ]
  },
  {
   "cell_type": "markdown",
   "metadata": {},
   "source": [
    "## Find Costs"
   ]
  },
  {
   "cell_type": "code",
   "execution_count": 6,
   "metadata": {
    "collapsed": false
   },
   "outputs": [],
   "source": [
    "# estimated speed in minutes per meter\n",
    "transit_speed = {\"Metro\": 1/1600, \"Cable\": 1/1600, \n",
    "                 \"Tramway\":1/1000, \"Bus rapid transit\": 1/400, \n",
    "                 \"Walk\": 1/84} \n",
    "\n",
    "transit_wait = {\"Metro\": 1, \"Cable\": 2.5, \"Tramway\":2.5, \"Bus rapid transit\": 5} #minutes"
   ]
  },
  {
   "cell_type": "code",
   "execution_count": 33,
   "metadata": {
    "collapsed": false
   },
   "outputs": [],
   "source": [
    "cost = cost_from_metro(metro, municip, \n",
    "                       speed=transit_speed, \n",
    "                       wait=transit_wait, \n",
    "                       comunas=comunas)"
   ]
  },
  {
   "cell_type": "code",
   "execution_count": 34,
   "metadata": {
    "collapsed": false
   },
   "outputs": [],
   "source": [
    "# estimated speed in minutes per meter\n",
    "transit_speed2 = {\"Metro\": 1/160, \"Cable\": 1/160, \n",
    "                 \"Tramway\":1/160, \"Bus rapid transit\": 1/160, \n",
    "                 \"Walk\": 1/84} \n",
    "\n",
    "transit_wait2 = {\"Metro\": 1, \"Cable\": 2.5, \"Tramway\":2.5, \"Bus rapid transit\": 5} #minutes\n",
    "\n",
    "cost2 = cost_from_metro(metro, municip, \n",
    "                       speed=transit_speed2, \n",
    "                       wait=transit_wait2, \n",
    "                       comunas=comunas)"
   ]
  },
  {
   "cell_type": "code",
   "execution_count": 35,
   "metadata": {
    "collapsed": true
   },
   "outputs": [],
   "source": [
    "cost3 = cost_from_metro(metro, municip, \n",
    "                       speed=transit_speed, \n",
    "                       wait=transit_wait)"
   ]
  },
  {
   "cell_type": "code",
   "execution_count": 37,
   "metadata": {
    "collapsed": false
   },
   "outputs": [
    {
     "data": {
      "image/png": "[encoded data removed]",
      "text/plain": [
       "<Figure size 576x216 with 3 Axes>"
      ]
     },
     "metadata": {
      "needs_background": "light"
     },
     "output_type": "display_data"
    }
   ],
   "source": [
    "# visualize travel cost\n",
    "costs = [cost, cost3]\n",
    "titles = [\"og\", \"nocomunas\"]\n",
    "_min, _max = np.amin(costs), np.amax(costs)\n",
    "\n",
    "fig, axes = plt.subplots(nrows=1, ncols=len(costs), figsize=(3*len(costs)+2,3))\n",
    "\n",
    "for i in range(len(costs)):\n",
    "    cbarimg = axes[i].imshow(costs[i], vmin=_min, vmax=_max, \n",
    "                             cmap=\"RdYlBu_r\", extent=[0.5,10.5,10.5,0.5])\n",
    "    plot_adj(axes[i],titles[i])\n",
    "\n",
    "cbar = plt.colorbar(cbarimg)\n",
    "cbar.ax.get_yaxis().labelpad = 15\n",
    "cbar.ax.set_ylabel('Travel Time (Minutes)', rotation=270)\n",
    "\n",
    "plt.show()"
   ]
  },
  {
   "cell_type": "code",
   "execution_count": 18,
   "metadata": {
    "collapsed": false
   },
   "outputs": [
    {
     "data": {
      "image/png": "[encoded data removed]",
      "text/plain": [
       "<Figure size 1008x216 with 2 Axes>"
      ]
     },
     "metadata": {
      "needs_background": "light"
     },
     "output_type": "display_data"
    }
   ],
   "source": [
    "# visualize travel cost\n",
    "cmap=\"RdYlBu_r\"\n",
    "fig, axes = plt.subplots(nrows=1, ncols=1, figsize=(14,3))\n",
    "\n",
    "cbarimg = axes.imshow(cost, cmap=cmap, extent=[0.5,10.5,10.5,0.5])\n",
    "plot_adj(axes, \"Original Cost Matrix\")\n",
    "\n",
    "cbar = plt.colorbar(cbarimg)\n",
    "cbar.ax.get_yaxis().labelpad = 15\n",
    "cbar.ax.set_ylabel('Travel Time (Minutes)', rotation=270)\n",
    "\n",
    "plt.show()"
   ]
  },
  {
   "cell_type": "code",
   "execution_count": 38,
   "metadata": {
    "collapsed": false
   },
   "outputs": [
    {
     "data": {
      "image/png": "[encoded data removed]",
      "text/plain": [
       "<Figure size 432x288 with 1 Axes>"
      ]
     },
     "metadata": {
      "needs_background": "light"
     },
     "output_type": "display_data"
    }
   ],
   "source": [
    "# create histogram of costs to help debug etc, with colorscheme matching the above\n",
    "nbins = 15\n",
    "\n",
    "cm = plt.cm.get_cmap(cmap)\n",
    "\n",
    "fig, axes = plt.subplots(figsize=(6,4))\n",
    "n, bins, patches = plt.hist(cost3.flatten().tolist(), nbins)\n",
    "bin_centers = 0.5 * (bins[:-1] + bins[1:])\n",
    "\n",
    "# scale values to interval [0,1]\n",
    "col = bin_centers - min(bin_centers)\n",
    "col /= max(col)\n",
    "\n",
    "for c, p in zip(col, patches):\n",
    "    plt.setp(p, 'facecolor', cm(c))\n",
    "    \n",
    "plt.xlabel(\"Travel Time (Minutes)\")\n",
    "plt.ylabel(\"Number of Muni-to-Muni Pairs\")\n",
    "plt.show()"
   ]
  },
  {
   "cell_type": "code",
   "execution_count": 23,
   "metadata": {
    "collapsed": false
   },
   "outputs": [
    {
     "data": {
      "text/plain": [
       "['Medellin',\n",
       " 'Barbosa',\n",
       " 'Bello',\n",
       " 'Caldas',\n",
       " 'Copacabana',\n",
       " 'Envigado',\n",
       " 'Girardota',\n",
       " 'Itagui',\n",
       " 'La Estrella',\n",
       " 'Sabaneta']"
      ]
     },
     "execution_count": 23,
     "metadata": {},
     "output_type": "execute_result"
    }
   ],
   "source": [
    "# export shapefile of all centroids\n",
    "muni_names\n"
   ]
  },
  {
   "cell_type": "code",
   "execution_count": null,
   "metadata": {
    "collapsed": true
   },
   "outputs": [],
   "source": []
  }
 ],
 "metadata": {
  "anaconda-cloud": {},
  "kernelspec": {
   "display_name": "Python (ds4dev)",
   "language": "python",
   "name": "ds4dev"
  },
  "language_info": {
   "codemirror_mode": {
    "name": "ipython",
    "version": 3
   },
   "file_extension": ".py",
   "mimetype": "text/x-python",
   "name": "python",
   "nbconvert_exporter": "python",
   "pygments_lexer": "ipython3",
   "version": "3.7.3"
  }
 },
 "nbformat": 4,
 "nbformat_minor": 2
}
